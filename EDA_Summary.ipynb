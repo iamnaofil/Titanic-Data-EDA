{
  "nbformat": 4,
  "nbformat_minor": 0,
  "metadata": {
    "colab": {
      "provenance": [],
      "authorship_tag": "ABX9TyMFb8CpoRvh8VxdsvqBleeQ",
      "include_colab_link": true
    },
    "kernelspec": {
      "name": "python3",
      "display_name": "Python 3"
    },
    "language_info": {
      "name": "python"
    }
  },
  "cells": [
    {
      "cell_type": "markdown",
      "metadata": {
        "id": "view-in-github",
        "colab_type": "text"
      },
      "source": [
        "<a href=\"https://colab.research.google.com/github/iamnaofil/Titanic-Data-EDA/blob/main/EDA_Summary.ipynb\" target=\"_parent\"><img src=\"https://colab.research.google.com/assets/colab-badge.svg\" alt=\"Open In Colab\"/></a>"
      ]
    },
    {
      "cell_type": "code",
      "execution_count": 2,
      "metadata": {
        "id": "EhlhLeb5BZ50"
      },
      "outputs": [],
      "source": [
        "import pandas as pd\n",
        "import numpy as np\n",
        "import seaborn as sns\n",
        "import matplotlib.pyplot as plt"
      ]
    },
    {
      "cell_type": "code",
      "source": [
        "df=pd.read_csv('train.csv')"
      ],
      "metadata": {
        "id": "Thg-tZXnBpgU"
      },
      "execution_count": 3,
      "outputs": []
    },
    {
      "cell_type": "code",
      "source": [
        "df.head()"
      ],
      "metadata": {
        "colab": {
          "base_uri": "https://localhost:8080/",
          "height": 206
        },
        "id": "c-v0T4RXB3s7",
        "outputId": "4637f1cc-b0b7-4803-b03a-747eb47f4f46"
      },
      "execution_count": 4,
      "outputs": [
        {
          "output_type": "execute_result",
          "data": {
            "text/plain": [
              "   PassengerId  Survived  Pclass  \\\n",
              "0            1         0       3   \n",
              "1            2         1       1   \n",
              "2            3         1       3   \n",
              "3            4         1       1   \n",
              "4            5         0       3   \n",
              "\n",
              "                                                Name     Sex   Age  SibSp  \\\n",
              "0                            Braund, Mr. Owen Harris    male  22.0      1   \n",
              "1  Cumings, Mrs. John Bradley (Florence Briggs Th...  female  38.0      1   \n",
              "2                             Heikkinen, Miss. Laina  female  26.0      0   \n",
              "3       Futrelle, Mrs. Jacques Heath (Lily May Peel)  female  35.0      1   \n",
              "4                           Allen, Mr. William Henry    male  35.0      0   \n",
              "\n",
              "   Parch            Ticket     Fare Cabin Embarked  \n",
              "0      0         A/5 21171   7.2500   NaN        S  \n",
              "1      0          PC 17599  71.2833   C85        C  \n",
              "2      0  STON/O2. 3101282   7.9250   NaN        S  \n",
              "3      0            113803  53.1000  C123        S  \n",
              "4      0            373450   8.0500   NaN        S  "
            ],
            "text/html": [
              "\n",
              "  <div id=\"df-5c5a2712-ca37-4d42-a928-96785b5c756c\" class=\"colab-df-container\">\n",
              "    <div>\n",
              "<style scoped>\n",
              "    .dataframe tbody tr th:only-of-type {\n",
              "        vertical-align: middle;\n",
              "    }\n",
              "\n",
              "    .dataframe tbody tr th {\n",
              "        vertical-align: top;\n",
              "    }\n",
              "\n",
              "    .dataframe thead th {\n",
              "        text-align: right;\n",
              "    }\n",
              "</style>\n",
              "<table border=\"1\" class=\"dataframe\">\n",
              "  <thead>\n",
              "    <tr style=\"text-align: right;\">\n",
              "      <th></th>\n",
              "      <th>PassengerId</th>\n",
              "      <th>Survived</th>\n",
              "      <th>Pclass</th>\n",
              "      <th>Name</th>\n",
              "      <th>Sex</th>\n",
              "      <th>Age</th>\n",
              "      <th>SibSp</th>\n",
              "      <th>Parch</th>\n",
              "      <th>Ticket</th>\n",
              "      <th>Fare</th>\n",
              "      <th>Cabin</th>\n",
              "      <th>Embarked</th>\n",
              "    </tr>\n",
              "  </thead>\n",
              "  <tbody>\n",
              "    <tr>\n",
              "      <th>0</th>\n",
              "      <td>1</td>\n",
              "      <td>0</td>\n",
              "      <td>3</td>\n",
              "      <td>Braund, Mr. Owen Harris</td>\n",
              "      <td>male</td>\n",
              "      <td>22.0</td>\n",
              "      <td>1</td>\n",
              "      <td>0</td>\n",
              "      <td>A/5 21171</td>\n",
              "      <td>7.2500</td>\n",
              "      <td>NaN</td>\n",
              "      <td>S</td>\n",
              "    </tr>\n",
              "    <tr>\n",
              "      <th>1</th>\n",
              "      <td>2</td>\n",
              "      <td>1</td>\n",
              "      <td>1</td>\n",
              "      <td>Cumings, Mrs. John Bradley (Florence Briggs Th...</td>\n",
              "      <td>female</td>\n",
              "      <td>38.0</td>\n",
              "      <td>1</td>\n",
              "      <td>0</td>\n",
              "      <td>PC 17599</td>\n",
              "      <td>71.2833</td>\n",
              "      <td>C85</td>\n",
              "      <td>C</td>\n",
              "    </tr>\n",
              "    <tr>\n",
              "      <th>2</th>\n",
              "      <td>3</td>\n",
              "      <td>1</td>\n",
              "      <td>3</td>\n",
              "      <td>Heikkinen, Miss. Laina</td>\n",
              "      <td>female</td>\n",
              "      <td>26.0</td>\n",
              "      <td>0</td>\n",
              "      <td>0</td>\n",
              "      <td>STON/O2. 3101282</td>\n",
              "      <td>7.9250</td>\n",
              "      <td>NaN</td>\n",
              "      <td>S</td>\n",
              "    </tr>\n",
              "    <tr>\n",
              "      <th>3</th>\n",
              "      <td>4</td>\n",
              "      <td>1</td>\n",
              "      <td>1</td>\n",
              "      <td>Futrelle, Mrs. Jacques Heath (Lily May Peel)</td>\n",
              "      <td>female</td>\n",
              "      <td>35.0</td>\n",
              "      <td>1</td>\n",
              "      <td>0</td>\n",
              "      <td>113803</td>\n",
              "      <td>53.1000</td>\n",
              "      <td>C123</td>\n",
              "      <td>S</td>\n",
              "    </tr>\n",
              "    <tr>\n",
              "      <th>4</th>\n",
              "      <td>5</td>\n",
              "      <td>0</td>\n",
              "      <td>3</td>\n",
              "      <td>Allen, Mr. William Henry</td>\n",
              "      <td>male</td>\n",
              "      <td>35.0</td>\n",
              "      <td>0</td>\n",
              "      <td>0</td>\n",
              "      <td>373450</td>\n",
              "      <td>8.0500</td>\n",
              "      <td>NaN</td>\n",
              "      <td>S</td>\n",
              "    </tr>\n",
              "  </tbody>\n",
              "</table>\n",
              "</div>\n",
              "    <div class=\"colab-df-buttons\">\n",
              "\n",
              "  <div class=\"colab-df-container\">\n",
              "    <button class=\"colab-df-convert\" onclick=\"convertToInteractive('df-5c5a2712-ca37-4d42-a928-96785b5c756c')\"\n",
              "            title=\"Convert this dataframe to an interactive table.\"\n",
              "            style=\"display:none;\">\n",
              "\n",
              "  <svg xmlns=\"http://www.w3.org/2000/svg\" height=\"24px\" viewBox=\"0 -960 960 960\">\n",
              "    <path d=\"M120-120v-720h720v720H120Zm60-500h600v-160H180v160Zm220 220h160v-160H400v160Zm0 220h160v-160H400v160ZM180-400h160v-160H180v160Zm440 0h160v-160H620v160ZM180-180h160v-160H180v160Zm440 0h160v-160H620v160Z\"/>\n",
              "  </svg>\n",
              "    </button>\n",
              "\n",
              "  <style>\n",
              "    .colab-df-container {\n",
              "      display:flex;\n",
              "      gap: 12px;\n",
              "    }\n",
              "\n",
              "    .colab-df-convert {\n",
              "      background-color: #E8F0FE;\n",
              "      border: none;\n",
              "      border-radius: 50%;\n",
              "      cursor: pointer;\n",
              "      display: none;\n",
              "      fill: #1967D2;\n",
              "      height: 32px;\n",
              "      padding: 0 0 0 0;\n",
              "      width: 32px;\n",
              "    }\n",
              "\n",
              "    .colab-df-convert:hover {\n",
              "      background-color: #E2EBFA;\n",
              "      box-shadow: 0px 1px 2px rgba(60, 64, 67, 0.3), 0px 1px 3px 1px rgba(60, 64, 67, 0.15);\n",
              "      fill: #174EA6;\n",
              "    }\n",
              "\n",
              "    .colab-df-buttons div {\n",
              "      margin-bottom: 4px;\n",
              "    }\n",
              "\n",
              "    [theme=dark] .colab-df-convert {\n",
              "      background-color: #3B4455;\n",
              "      fill: #D2E3FC;\n",
              "    }\n",
              "\n",
              "    [theme=dark] .colab-df-convert:hover {\n",
              "      background-color: #434B5C;\n",
              "      box-shadow: 0px 1px 3px 1px rgba(0, 0, 0, 0.15);\n",
              "      filter: drop-shadow(0px 1px 2px rgba(0, 0, 0, 0.3));\n",
              "      fill: #FFFFFF;\n",
              "    }\n",
              "  </style>\n",
              "\n",
              "    <script>\n",
              "      const buttonEl =\n",
              "        document.querySelector('#df-5c5a2712-ca37-4d42-a928-96785b5c756c button.colab-df-convert');\n",
              "      buttonEl.style.display =\n",
              "        google.colab.kernel.accessAllowed ? 'block' : 'none';\n",
              "\n",
              "      async function convertToInteractive(key) {\n",
              "        const element = document.querySelector('#df-5c5a2712-ca37-4d42-a928-96785b5c756c');\n",
              "        const dataTable =\n",
              "          await google.colab.kernel.invokeFunction('convertToInteractive',\n",
              "                                                    [key], {});\n",
              "        if (!dataTable) return;\n",
              "\n",
              "        const docLinkHtml = 'Like what you see? Visit the ' +\n",
              "          '<a target=\"_blank\" href=https://colab.research.google.com/notebooks/data_table.ipynb>data table notebook</a>'\n",
              "          + ' to learn more about interactive tables.';\n",
              "        element.innerHTML = '';\n",
              "        dataTable['output_type'] = 'display_data';\n",
              "        await google.colab.output.renderOutput(dataTable, element);\n",
              "        const docLink = document.createElement('div');\n",
              "        docLink.innerHTML = docLinkHtml;\n",
              "        element.appendChild(docLink);\n",
              "      }\n",
              "    </script>\n",
              "  </div>\n",
              "\n",
              "\n",
              "<div id=\"df-bf120e1d-5320-4a55-9d6c-7c1e8d5991b2\">\n",
              "  <button class=\"colab-df-quickchart\" onclick=\"quickchart('df-bf120e1d-5320-4a55-9d6c-7c1e8d5991b2')\"\n",
              "            title=\"Suggest charts.\"\n",
              "            style=\"display:none;\">\n",
              "\n",
              "<svg xmlns=\"http://www.w3.org/2000/svg\" height=\"24px\"viewBox=\"0 0 24 24\"\n",
              "     width=\"24px\">\n",
              "    <g>\n",
              "        <path d=\"M19 3H5c-1.1 0-2 .9-2 2v14c0 1.1.9 2 2 2h14c1.1 0 2-.9 2-2V5c0-1.1-.9-2-2-2zM9 17H7v-7h2v7zm4 0h-2V7h2v10zm4 0h-2v-4h2v4z\"/>\n",
              "    </g>\n",
              "</svg>\n",
              "  </button>\n",
              "\n",
              "<style>\n",
              "  .colab-df-quickchart {\n",
              "      --bg-color: #E8F0FE;\n",
              "      --fill-color: #1967D2;\n",
              "      --hover-bg-color: #E2EBFA;\n",
              "      --hover-fill-color: #174EA6;\n",
              "      --disabled-fill-color: #AAA;\n",
              "      --disabled-bg-color: #DDD;\n",
              "  }\n",
              "\n",
              "  [theme=dark] .colab-df-quickchart {\n",
              "      --bg-color: #3B4455;\n",
              "      --fill-color: #D2E3FC;\n",
              "      --hover-bg-color: #434B5C;\n",
              "      --hover-fill-color: #FFFFFF;\n",
              "      --disabled-bg-color: #3B4455;\n",
              "      --disabled-fill-color: #666;\n",
              "  }\n",
              "\n",
              "  .colab-df-quickchart {\n",
              "    background-color: var(--bg-color);\n",
              "    border: none;\n",
              "    border-radius: 50%;\n",
              "    cursor: pointer;\n",
              "    display: none;\n",
              "    fill: var(--fill-color);\n",
              "    height: 32px;\n",
              "    padding: 0;\n",
              "    width: 32px;\n",
              "  }\n",
              "\n",
              "  .colab-df-quickchart:hover {\n",
              "    background-color: var(--hover-bg-color);\n",
              "    box-shadow: 0 1px 2px rgba(60, 64, 67, 0.3), 0 1px 3px 1px rgba(60, 64, 67, 0.15);\n",
              "    fill: var(--button-hover-fill-color);\n",
              "  }\n",
              "\n",
              "  .colab-df-quickchart-complete:disabled,\n",
              "  .colab-df-quickchart-complete:disabled:hover {\n",
              "    background-color: var(--disabled-bg-color);\n",
              "    fill: var(--disabled-fill-color);\n",
              "    box-shadow: none;\n",
              "  }\n",
              "\n",
              "  .colab-df-spinner {\n",
              "    border: 2px solid var(--fill-color);\n",
              "    border-color: transparent;\n",
              "    border-bottom-color: var(--fill-color);\n",
              "    animation:\n",
              "      spin 1s steps(1) infinite;\n",
              "  }\n",
              "\n",
              "  @keyframes spin {\n",
              "    0% {\n",
              "      border-color: transparent;\n",
              "      border-bottom-color: var(--fill-color);\n",
              "      border-left-color: var(--fill-color);\n",
              "    }\n",
              "    20% {\n",
              "      border-color: transparent;\n",
              "      border-left-color: var(--fill-color);\n",
              "      border-top-color: var(--fill-color);\n",
              "    }\n",
              "    30% {\n",
              "      border-color: transparent;\n",
              "      border-left-color: var(--fill-color);\n",
              "      border-top-color: var(--fill-color);\n",
              "      border-right-color: var(--fill-color);\n",
              "    }\n",
              "    40% {\n",
              "      border-color: transparent;\n",
              "      border-right-color: var(--fill-color);\n",
              "      border-top-color: var(--fill-color);\n",
              "    }\n",
              "    60% {\n",
              "      border-color: transparent;\n",
              "      border-right-color: var(--fill-color);\n",
              "    }\n",
              "    80% {\n",
              "      border-color: transparent;\n",
              "      border-right-color: var(--fill-color);\n",
              "      border-bottom-color: var(--fill-color);\n",
              "    }\n",
              "    90% {\n",
              "      border-color: transparent;\n",
              "      border-bottom-color: var(--fill-color);\n",
              "    }\n",
              "  }\n",
              "</style>\n",
              "\n",
              "  <script>\n",
              "    async function quickchart(key) {\n",
              "      const quickchartButtonEl =\n",
              "        document.querySelector('#' + key + ' button');\n",
              "      quickchartButtonEl.disabled = true;  // To prevent multiple clicks.\n",
              "      quickchartButtonEl.classList.add('colab-df-spinner');\n",
              "      try {\n",
              "        const charts = await google.colab.kernel.invokeFunction(\n",
              "            'suggestCharts', [key], {});\n",
              "      } catch (error) {\n",
              "        console.error('Error during call to suggestCharts:', error);\n",
              "      }\n",
              "      quickchartButtonEl.classList.remove('colab-df-spinner');\n",
              "      quickchartButtonEl.classList.add('colab-df-quickchart-complete');\n",
              "    }\n",
              "    (() => {\n",
              "      let quickchartButtonEl =\n",
              "        document.querySelector('#df-bf120e1d-5320-4a55-9d6c-7c1e8d5991b2 button');\n",
              "      quickchartButtonEl.style.display =\n",
              "        google.colab.kernel.accessAllowed ? 'block' : 'none';\n",
              "    })();\n",
              "  </script>\n",
              "</div>\n",
              "    </div>\n",
              "  </div>\n"
            ]
          },
          "metadata": {},
          "execution_count": 4
        }
      ]
    },
    {
      "cell_type": "markdown",
      "source": [
        "**Data Anomilies:**"
      ],
      "metadata": {
        "id": "I1PcNcCtB7I5"
      }
    },
    {
      "cell_type": "markdown",
      "source": [
        "**This Dataset is showing Detail of Titanic Incident**:<br>\n",
        "PassengerID: Shwoing ID of Pasenger Travelling<br>\n",
        "Survived: Showing that Passenger Survived or not from that incident<br>\n",
        "Pclass: shoing which class passenger travelling<br>\n",
        "name: Showing Name of Passengers.<br>\n",
        "Sex: Showing Passenger is Male or Female<br>\n",
        "Age: Showing Age of Passenger<br>\n",
        "\n",
        "SibSp: Showing number of how many Sibling or Spouse of passenger with them.<br>\n",
        "Parch: Showing Parents and Child Count with Pasenger<br>\n",
        "Ticket: Showing Ticket Number / like any PNR\n",
        "<br>Fare:  Cost of Tickets Fare<br>\n",
        "Cabin: Showing in which cabin Passengers Travelling<br>\n",
        "Embarked: Showing from Which Station Passenger Took Titanic"
      ],
      "metadata": {
        "id": "a8Bi_NGYB93Z"
      }
    },
    {
      "cell_type": "markdown",
      "source": [
        "# Why do EDA (Reason):\n",
        "*   1) Model Building:\n",
        "\n",
        "(Creating a Model that predict a passenger of given input will survive or not)\n",
        "*   2) Analysis and Report\n",
        "\n",
        "(Sometime we just need to prepare knowledgable points on given dataset not any model)\n",
        "*   3) Validate assumption\n",
        "(When We have some assumption to check its prediction and probabilty)\n",
        "*   4) Handling missing Values\n",
        "\n",
        "(Formulate Dataset by droping or mean replacement, think what will be accurate value after understandin data)\n",
        "*   5) Feature Engineering\n",
        "\n",
        "(To find which columns help me in analysis, so either we add column or modify columns)\n",
        "*   6) Detecting of Outlier\n",
        "\n",
        "(Any Extream pointin data, inbalance point)\n",
        "\n"
      ],
      "metadata": {
        "id": "vZfskiPaDZki"
      }
    },
    {
      "cell_type": "markdown",
      "source": [
        "**EDA Process is Iterative Process, That we perform repetativly**"
      ],
      "metadata": {
        "id": "xhdi8ZZTFAfj"
      }
    },
    {
      "cell_type": "code",
      "source": [
        "#Start with you documentation what you do before EDA\n",
        "#You first create a short summary of everything what you are understanding from Dataset"
      ],
      "metadata": {
        "id": "79UEUGdxB4qz"
      },
      "execution_count": null,
      "outputs": []
    },
    {
      "cell_type": "markdown",
      "source": [
        "**Step 1 :Columns Types Labeling:** <br>\n",
        "\n",
        "Firsly we categorize our data anolies types:\n",
        "\n",
        "Numerical: PassengerID,Age, Fare<br>\n",
        "Categorical: Survived, Pclass, Sex, Sibsp, Parch, Embarked<br>\n",
        "Mixed: Name,Ticket,Cabin"
      ],
      "metadata": {
        "id": "rMsW9NrkFZC6"
      }
    },
    {
      "cell_type": "markdown",
      "source": [
        "**Step 2 :Univariate Analysis** <br>\n",
        "(Single Variable Analysis of Each Column)\n",
        "\n",
        "Each Columns Values/ Records Checking by its Distribution\n",
        "\n",
        "Indpendently analyze a column,\n",
        "How the data point distributed,\n",
        "\n",
        "\n",
        "**1-Shape of Data**\n",
        "How many records are there\n",
        "\n",
        "**2 -Central Tendency** of that data point that how data is spread:\n",
        "    \n",
        "**3- Dispersion**<br>\n",
        "RANGE(finding Min and MAX),\n",
        "\n",
        "VARIANCE(finding Distance from MEAN),\n",
        "\n",
        "STD ( Standared Deviation)\n",
        "\n",
        "\n",
        "IQR (Percentile)\n",
        "\n",
        "\n",
        "\n",
        "**Potential Issue:**\n",
        "\n",
        "Outliers : Extream Value from\n",
        "Skewness : Normal Distribution\n",
        "Data Balance (Our Mean and Median Differ)\n",
        "Missing Values:\n",
        "\n",
        "---\n",
        "\n",
        "**Step 3 :Bivariate Anlaysis**\n",
        "\n",
        "(Two Variable Analysis of two column)\n",
        "Cheecks Corelation / Distribution between Two Columns)\n",
        "\n",
        "\n",
        "\n",
        "**Step 4 :Multivariate Analysis**"
      ],
      "metadata": {
        "id": "INDZvgqjGGsa"
      }
    },
    {
      "cell_type": "markdown",
      "source": [
        "# UNIVARIATE ANALYSIS"
      ],
      "metadata": {
        "id": "fJJQPi1Nkbq2"
      }
    },
    {
      "cell_type": "markdown",
      "source": [
        "\n",
        "(on Numerical Values)\n",
        "\n",
        "1- Discriptive Statistic (describe () function)\n",
        "\n",
        "2- Visualization plot graph,chart, histogram,\n",
        "\n",
        "3- Identifying Outlier: Extreamity of data point(Know Whats and Why)\n",
        "\n",
        "4- Skewness: Consider transofrmation if neccesary(Feature Tranformation)\n",
        "\n",
        "5- Conclusion"
      ],
      "metadata": {
        "id": "iJurd7SGUYOL"
      }
    },
    {
      "cell_type": "markdown",
      "source": [
        "**Creating plot histogram**\n",
        "\n",
        "df['Column'].plot(kind=hist)"
      ],
      "metadata": {
        "id": "dQ_K1HOSXZfc"
      }
    },
    {
      "cell_type": "markdown",
      "source": [
        "**Defining Bins in Histogram**\n",
        "\n",
        "df['Column'].plot(kind=hist,bins=20)"
      ],
      "metadata": {
        "id": "3wyrFxSaXgMD"
      }
    },
    {
      "cell_type": "markdown",
      "source": [
        "**Creating kde Chart** <br>\n",
        "df['Column'].plot(kind=kde)"
      ],
      "metadata": {
        "id": "lpG-GNyzXsjz"
      }
    },
    {
      "cell_type": "markdown",
      "source": [
        "**Know skew for any single column**\n",
        "\n",
        "df['Column'].skew()"
      ],
      "metadata": {
        "id": "WTJ_b1IjU9U6"
      }
    },
    {
      "cell_type": "markdown",
      "source": [
        "**Creating Box Plot** <br>\n",
        "df['Column'].plot('box')"
      ],
      "metadata": {
        "id": "B150HWE-X04D"
      }
    },
    {
      "cell_type": "markdown",
      "source": [
        "**Check Missing Values**\n",
        "\n",
        "df['Column'].isnull()\n",
        "\n",
        "**Checks Count of Missing Values**\n",
        "\n",
        "df['Column'].isnull().sum()\n",
        "\n",
        "**Check How Many Percent of missing value per column data**\n",
        "\n",
        "df['Column'].isnull().sum()/len(df['Cloumn')*100\n"
      ],
      "metadata": {
        "id": "vCFcS2sfZJz8"
      }
    },
    {
      "cell_type": "markdown",
      "source": [
        "**Univariate Analysis on Categorical Data** <br>\n",
        " Descriptive Statistic\n",
        "\n",
        " Visualization\n",
        "\n",
        " Missing Values"
      ],
      "metadata": {
        "id": "3gUyikjCZfA8"
      }
    },
    {
      "cell_type": "markdown",
      "source": [
        "# Bivariate Analysis\n",
        "<br>\n",
        "Choosing 2 Columns<br>\n",
        "With Three Posibilties"
      ],
      "metadata": {
        "id": "e9SkH3YuiwIm"
      }
    },
    {
      "cell_type": "markdown",
      "source": [
        "**1) Numerical - Numerical** <br>\n",
        "\n",
        "- scatter(regression plot), 2D hisplot, 2D KDE <br>\n",
        "\n",
        "- check scorelation and coefficient (liner relationship)\n",
        "<br>\n",
        "\n",
        "**2) Numerical - Categorical** <br>\n",
        "\n",
        "- comparing distribution across categorical data\n",
        "\n",
        "- barplot, boxplot, vilioplot even scatter plot\n",
        "\n",
        "\n",
        "**3) Categorical - Categorical**<br>\n",
        "\n",
        "- cross tabulations OR Contengency tables\n",
        "\n",
        "- heatmap, stackedbar chart, treemaps"
      ],
      "metadata": {
        "id": "UJ-Rlxxii4Re"
      }
    },
    {
      "cell_type": "markdown",
      "source": [
        "**Numerical - Numerical** <br> We choose most important column\n",
        "\n",
        "  Survived - Embarked\n",
        "\n",
        "  Survived - PClass\n",
        "\n",
        "  Age - PClass"
      ],
      "metadata": {
        "id": "Lj7OkzWKkyKm"
      }
    },
    {
      "cell_type": "markdown",
      "source": [
        "**Numerical -  Categorical**\n",
        "\n",
        "Age - Survived\n",
        "\n",
        "Age - PClass\n",
        "\n",
        "Age - Fare"
      ],
      "metadata": {
        "id": "18cr6yZEp5ef"
      }
    },
    {
      "cell_type": "markdown",
      "source": [
        "# Feature Engineering"
      ],
      "metadata": {
        "id": "oG2_dqeQirSm"
      }
    },
    {
      "cell_type": "markdown",
      "source": [
        "**Feature Engineering on Mixed Columns**"
      ],
      "metadata": {
        "id": "X6m2r-Y5ih6O"
      }
    },
    {
      "cell_type": "code",
      "source": [
        "#Name , Ticket , Cabin Column\n",
        "#bivariate analysis with respect to most important column (Survived, Age)\n",
        "#creating new column Family Size and Type to have more understanding\n",
        "#Adding Relatbale Columns which can be helpful to analysis more"
      ],
      "metadata": {
        "id": "nfDW_QDxiU3Z"
      },
      "execution_count": null,
      "outputs": []
    }
  ]
}